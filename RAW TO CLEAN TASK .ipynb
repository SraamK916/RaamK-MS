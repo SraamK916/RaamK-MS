{
 "cells": [
  {
   "cell_type": "code",
   "execution_count": 1,
   "id": "f44cf448",
   "metadata": {},
   "outputs": [],
   "source": [
    "import pandas as pd"
   ]
  },
  {
   "cell_type": "code",
   "execution_count": 2,
   "id": "1cd0a5f2",
   "metadata": {},
   "outputs": [],
   "source": [
    "raw_data = ['56th road, john street, btm, ka - 56007 ||| 6th mar 2023 ||| 07:56:32',\n",
    "            '25th ave, mg road, whitefield, ka - 789098 ||| 1st jan 2023 ||| 02:45:23']\n"
   ]
  },
  {
   "cell_type": "code",
   "execution_count": 3,
   "id": "a016e830",
   "metadata": {},
   "outputs": [
    {
     "data": {
      "text/plain": [
       "[['56th road, john street, btm, ka - 56007 ', ' 6th mar 2023 ', ' 07:56:32'],\n",
       " ['25th ave, mg road, whitefield, ka - 789098 ',\n",
       "  ' 1st jan 2023 ',\n",
       "  ' 02:45:23']]"
      ]
     },
     "execution_count": 3,
     "metadata": {},
     "output_type": "execute_result"
    }
   ],
   "source": [
    "# Spliting data and removing |||\n",
    "split_data = [data.split('|||') for data in raw_data]\n",
    "split_data"
   ]
  },
  {
   "cell_type": "code",
   "execution_count": 8,
   "id": "0213555d",
   "metadata": {},
   "outputs": [],
   "source": [
    "#Extracting required data into the required format\n",
    "clean_data = []\n",
    "for data in split_data:\n",
    "    address = data[0].strip().split(',')\n",
    "    lane = address[0].strip()\n",
    "    street = address[1].strip()\n",
    "    city = address[2].strip()\n",
    "    state = address[3].strip().split('-')[0].strip()\n",
    "    pincode = address[3].strip().split('-')[1].strip()\n",
    "    date = data[1].strip().split()\n",
    "    month = date[1][:3]\n",
    "    year = date[2]\n",
    "    time = data[2].strip().split(':')\n",
    "    hour = time[0]\n",
    "    minute = time[1]\n",
    "    second = time[2]\n",
    "    clean_data.append([lane, street, city, state, pincode,date,month,year,hour,minute,second])"
   ]
  },
  {
   "cell_type": "code",
   "execution_count": 9,
   "id": "4654b098",
   "metadata": {},
   "outputs": [
    {
     "data": {
      "text/plain": [
       "[['56th road',\n",
       "  'john street',\n",
       "  'btm',\n",
       "  'ka',\n",
       "  '56007',\n",
       "  ['6th', 'mar', '2023'],\n",
       "  'mar',\n",
       "  '2023',\n",
       "  '07',\n",
       "  '56',\n",
       "  '32'],\n",
       " ['25th ave',\n",
       "  'mg road',\n",
       "  'whitefield',\n",
       "  'ka',\n",
       "  '789098',\n",
       "  ['1st', 'jan', '2023'],\n",
       "  'jan',\n",
       "  '2023',\n",
       "  '02',\n",
       "  '45',\n",
       "  '23']]"
      ]
     },
     "execution_count": 9,
     "metadata": {},
     "output_type": "execute_result"
    }
   ],
   "source": [
    "clean_data"
   ]
  },
  {
   "cell_type": "code",
   "execution_count": 11,
   "id": "6b1281d8",
   "metadata": {},
   "outputs": [],
   "source": [
    "# Create a pandas data frame using the clean data\n",
    "df = pd.DataFrame(clean_data, columns=['Lane', 'Street', 'City', 'State', 'Pincode','date', 'Month', 'Year', 'Hour', 'Minute', 'Second'])"
   ]
  },
  {
   "cell_type": "code",
   "execution_count": 12,
   "id": "6a7f2853",
   "metadata": {
    "scrolled": true
   },
   "outputs": [
    {
     "data": {
      "text/html": [
       "<div>\n",
       "<style scoped>\n",
       "    .dataframe tbody tr th:only-of-type {\n",
       "        vertical-align: middle;\n",
       "    }\n",
       "\n",
       "    .dataframe tbody tr th {\n",
       "        vertical-align: top;\n",
       "    }\n",
       "\n",
       "    .dataframe thead th {\n",
       "        text-align: right;\n",
       "    }\n",
       "</style>\n",
       "<table border=\"1\" class=\"dataframe\">\n",
       "  <thead>\n",
       "    <tr style=\"text-align: right;\">\n",
       "      <th></th>\n",
       "      <th>Lane</th>\n",
       "      <th>Street</th>\n",
       "      <th>City</th>\n",
       "      <th>State</th>\n",
       "      <th>Pincode</th>\n",
       "      <th>date</th>\n",
       "      <th>Month</th>\n",
       "      <th>Year</th>\n",
       "      <th>Hour</th>\n",
       "      <th>Minute</th>\n",
       "      <th>Second</th>\n",
       "    </tr>\n",
       "  </thead>\n",
       "  <tbody>\n",
       "    <tr>\n",
       "      <th>0</th>\n",
       "      <td>56th road</td>\n",
       "      <td>john street</td>\n",
       "      <td>btm</td>\n",
       "      <td>ka</td>\n",
       "      <td>56007</td>\n",
       "      <td>[6th, mar, 2023]</td>\n",
       "      <td>mar</td>\n",
       "      <td>2023</td>\n",
       "      <td>07</td>\n",
       "      <td>56</td>\n",
       "      <td>32</td>\n",
       "    </tr>\n",
       "    <tr>\n",
       "      <th>1</th>\n",
       "      <td>25th ave</td>\n",
       "      <td>mg road</td>\n",
       "      <td>whitefield</td>\n",
       "      <td>ka</td>\n",
       "      <td>789098</td>\n",
       "      <td>[1st, jan, 2023]</td>\n",
       "      <td>jan</td>\n",
       "      <td>2023</td>\n",
       "      <td>02</td>\n",
       "      <td>45</td>\n",
       "      <td>23</td>\n",
       "    </tr>\n",
       "  </tbody>\n",
       "</table>\n",
       "</div>"
      ],
      "text/plain": [
       "        Lane       Street        City State Pincode              date Month  \\\n",
       "0  56th road  john street         btm    ka   56007  [6th, mar, 2023]   mar   \n",
       "1   25th ave      mg road  whitefield    ka  789098  [1st, jan, 2023]   jan   \n",
       "\n",
       "   Year Hour Minute Second  \n",
       "0  2023   07     56     32  \n",
       "1  2023   02     45     23  "
      ]
     },
     "execution_count": 12,
     "metadata": {},
     "output_type": "execute_result"
    }
   ],
   "source": [
    "df"
   ]
  },
  {
   "cell_type": "code",
   "execution_count": null,
   "id": "2c173339",
   "metadata": {},
   "outputs": [],
   "source": []
  }
 ],
 "metadata": {
  "kernelspec": {
   "display_name": "Python 3 (ipykernel)",
   "language": "python",
   "name": "python3"
  },
  "language_info": {
   "codemirror_mode": {
    "name": "ipython",
    "version": 3
   },
   "file_extension": ".py",
   "mimetype": "text/x-python",
   "name": "python",
   "nbconvert_exporter": "python",
   "pygments_lexer": "ipython3",
   "version": "3.9.16"
  }
 },
 "nbformat": 4,
 "nbformat_minor": 5
}
